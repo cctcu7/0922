{
  "nbformat": 4,
  "nbformat_minor": 0,
  "metadata": {
    "colab": {
      "provenance": [],
      "include_colab_link": true
    },
    "kernelspec": {
      "name": "python3",
      "display_name": "Python 3"
    },
    "language_info": {
      "name": "python"
    }
  },
  "cells": [
    {
      "cell_type": "markdown",
      "metadata": {
        "id": "view-in-github",
        "colab_type": "text"
      },
      "source": [
        "<a href=\"https://colab.research.google.com/github/cctcu7/0922/blob/master/Untitled7.ipynb\" target=\"_parent\"><img src=\"https://colab.research.google.com/assets/colab-badge.svg\" alt=\"Open In Colab\"/></a>"
      ]
    },
    {
      "cell_type": "code",
      "execution_count": null,
      "metadata": {
        "id": "9ZiQv8ovifOe"
      },
      "outputs": [],
      "source": [
        "import torchvision.datasets as dsets"
      ]
    },
    {
      "cell_type": "code",
      "source": [
        "import torchvision.transforms as transforms"
      ],
      "metadata": {
        "id": "37aCNnOdjXe-"
      },
      "execution_count": null,
      "outputs": []
    },
    {
      "cell_type": "code",
      "source": [
        "train_dataset = dsets.MNIST(root=\"./data\",\n",
        "                            train=True,\n",
        "                            transform=transforms.ToTensor(),\n",
        "                            download=True\n",
        "                            )\n",
        "test_dataset = dsets.MNIST(root=\"./data\",\n",
        "                            train=False,\n",
        "                            transform=transforms.ToTensor()\n",
        "                            )"
      ],
      "metadata": {
        "colab": {
          "base_uri": "https://localhost:8080/"
        },
        "id": "QKSKsH9uj33c",
        "outputId": "d3450691-f630-4e3a-b3aa-2d4a396f22fe"
      },
      "execution_count": null,
      "outputs": [
        {
          "output_type": "stream",
          "name": "stderr",
          "text": [
            "100%|██████████| 9.91M/9.91M [00:00<00:00, 36.0MB/s]\n",
            "100%|██████████| 28.9k/28.9k [00:00<00:00, 1.06MB/s]\n",
            "100%|██████████| 1.65M/1.65M [00:00<00:00, 9.44MB/s]\n",
            "100%|██████████| 4.54k/4.54k [00:00<00:00, 2.95MB/s]\n"
          ]
        }
      ]
    },
    {
      "cell_type": "code",
      "source": [
        "train_dataset.data.shape"
      ],
      "metadata": {
        "colab": {
          "base_uri": "https://localhost:8080/"
        },
        "id": "XadIj7H7lwcB",
        "outputId": "96775203-9b28-422a-d72a-2298c451128f"
      },
      "execution_count": null,
      "outputs": [
        {
          "output_type": "execute_result",
          "data": {
            "text/plain": [
              "torch.Size([60000, 28, 28])"
            ]
          },
          "metadata": {},
          "execution_count": 4
        }
      ]
    },
    {
      "cell_type": "code",
      "source": [
        "import matplotlib.pyplot as plt"
      ],
      "metadata": {
        "id": "HUyeLd_tk61B"
      },
      "execution_count": null,
      "outputs": []
    },
    {
      "cell_type": "code",
      "source": [
        "plt.imshow(train_dataset.data[0].numpy(), cmap=\"gray\")\n",
        "plt.show()"
      ],
      "metadata": {
        "colab": {
          "base_uri": "https://localhost:8080/",
          "height": 430
        },
        "id": "rwG39-7Hmu2p",
        "outputId": "b66b21f9-0136-406f-e6ec-4f76d282a708"
      },
      "execution_count": null,
      "outputs": [
        {
          "output_type": "display_data",
          "data": {
            "text/plain": [
              "<Figure size 640x480 with 1 Axes>"
            ],
            "image/png": "[encoded data removed]"
          },
          "metadata": {}
        }
      ]
    },
    {
      "cell_type": "code",
      "source": [
        "input_size = 28*28\n",
        "hidden_size = 500\n",
        "num_class = 10\n",
        "num_epoch = 5\n",
        "batch_size = 100\n",
        "learning_rate = 0.001"
      ],
      "metadata": {
        "id": "Q8NYuOHdnTAg"
      },
      "execution_count": null,
      "outputs": []
    },
    {
      "cell_type": "code",
      "source": [
        "import torch.utils.data as Data"
      ],
      "metadata": {
        "id": "VkZI4r4hrxyP"
      },
      "execution_count": null,
      "outputs": []
    },
    {
      "cell_type": "code",
      "source": [
        "train_loader = Data.DataLoader(dataset=train_dataset,\n",
        "                                batch_size=batch_size,\n",
        "                                shuffle=True)\n",
        "test_loader = Data.DataLoader(dataset=test_dataset,\n",
        "                                batch_size=batch_size,\n",
        "                                shuffle=False)"
      ],
      "metadata": {
        "id": "7hjdnQj4sOOo"
      },
      "execution_count": null,
      "outputs": []
    },
    {
      "cell_type": "code",
      "source": [
        "import torch.nn as nn"
      ],
      "metadata": {
        "id": "CxL6Bsvzt9hA"
      },
      "execution_count": null,
      "outputs": []
    },
    {
      "cell_type": "code",
      "source": [
        "class Model(nn.Module):\n",
        "  def __init__(self, input_size, hidden_size, num_class):\n",
        "    super(Model, self).__init__()\n",
        "    self.fc1 = nn.Linear(input_size, hidden_size)\n",
        "    self.relu = nn.ReLU()\n",
        "    self.fc2 = nn.Linear(hidden_size, num_class)\n",
        "  def forward(self, x):\n",
        "    out = self.fc1(x)\n",
        "    out = self.relu(out)\n",
        "    out = self.fc2(out)\n",
        "    return out"
      ],
      "metadata": {
        "id": "ftAm0s29uEp7"
      },
      "execution_count": null,
      "outputs": []
    },
    {
      "cell_type": "code",
      "source": [
        "model = Model(input_size, hidden_size, num_class)"
      ],
      "metadata": {
        "id": "c8w0BEaYwOGH"
      },
      "execution_count": null,
      "outputs": []
    },
    {
      "cell_type": "code",
      "source": [
        "from torchsummary import summary"
      ],
      "metadata": {
        "id": "96JYDIAqwi4D"
      },
      "execution_count": null,
      "outputs": []
    },
    {
      "cell_type": "code",
      "source": [
        "summary(model, (1,28*28))"
      ],
      "metadata": {
        "colab": {
          "base_uri": "https://localhost:8080/"
        },
        "id": "TMR07Amnwz1u",
        "outputId": "ebc3f8c3-cfa4-4d79-d84a-75d2f9e7104d"
      },
      "execution_count": null,
      "outputs": [
        {
          "output_type": "stream",
          "name": "stdout",
          "text": [
            "----------------------------------------------------------------\n",
            "        Layer (type)               Output Shape         Param #\n",
            "================================================================\n",
            "            Linear-1               [-1, 1, 500]         392,500\n",
            "              ReLU-2               [-1, 1, 500]               0\n",
            "            Linear-3                [-1, 1, 10]           5,010\n",
            "================================================================\n",
            "Total params: 397,510\n",
            "Trainable params: 397,510\n",
            "Non-trainable params: 0\n",
            "----------------------------------------------------------------\n",
            "Input size (MB): 0.00\n",
            "Forward/backward pass size (MB): 0.01\n",
            "Params size (MB): 1.52\n",
            "Estimated Total Size (MB): 1.53\n",
            "----------------------------------------------------------------\n"
          ]
        }
      ]
    },
    {
      "cell_type": "code",
      "source": [
        "import torch.optim as opt"
      ],
      "metadata": {
        "id": "3o31wV3yw-XC"
      },
      "execution_count": null,
      "outputs": []
    },
    {
      "cell_type": "code",
      "source": [
        "loss_fn = nn.CrossEntropyLoss()\n",
        "optimizer = opt.Adam(model.parameters(), lr=learning_rate)"
      ],
      "metadata": {
        "id": "UBztF3kIxd-i"
      },
      "execution_count": null,
      "outputs": []
    },
    {
      "cell_type": "code",
      "source": [
        "from torch.autograd import Variable"
      ],
      "metadata": {
        "id": "bzEf43SWx_U5"
      },
      "execution_count": null,
      "outputs": []
    },
    {
      "cell_type": "code",
      "source": [
        "for epoch in range(num_epoch):\n",
        "  for i, (images, labels) in enumerate(train_loader):\n",
        "    images = Variable(images.view(-1,28*28))\n",
        "    labels = Variable(labels)\n",
        "    optimizer.zero_grad()\n",
        "    outputs = model(images)\n",
        "    loss = loss_fn(outputs,labels)\n",
        "    loss.backward()\n",
        "    optimizer.step()\n",
        "    if (i+1)%100 == 0:\n",
        "      print(\"Epoch:{}, Batch:{}, Loss:{:.4f}\".format(epoch+1, i+1, loss.data))"
      ],
      "metadata": {
        "colab": {
          "base_uri": "https://localhost:8080/"
        },
        "id": "JFaovimkySn_",
        "outputId": "ab71f2af-c6fb-46bf-e71e-8bbfb153dba8"
      },
      "execution_count": null,
      "outputs": [
        {
          "output_type": "stream",
          "name": "stdout",
          "text": [
            "Epoch:1, Batch:100, Loss:0.4304\n",
            "Epoch:1, Batch:200, Loss:0.3138\n",
            "Epoch:1, Batch:300, Loss:0.2761\n",
            "Epoch:1, Batch:400, Loss:0.1112\n",
            "Epoch:1, Batch:500, Loss:0.1358\n",
            "Epoch:1, Batch:600, Loss:0.0881\n",
            "Epoch:2, Batch:100, Loss:0.1095\n",
            "Epoch:2, Batch:200, Loss:0.1409\n",
            "Epoch:2, Batch:300, Loss:0.0747\n",
            "Epoch:2, Batch:400, Loss:0.0929\n",
            "Epoch:2, Batch:500, Loss:0.0823\n",
            "Epoch:2, Batch:600, Loss:0.0760\n",
            "Epoch:3, Batch:100, Loss:0.0896\n",
            "Epoch:3, Batch:200, Loss:0.1005\n",
            "Epoch:3, Batch:300, Loss:0.0940\n",
            "Epoch:3, Batch:400, Loss:0.0292\n",
            "Epoch:3, Batch:500, Loss:0.1835\n",
            "Epoch:3, Batch:600, Loss:0.0883\n",
            "Epoch:4, Batch:100, Loss:0.1033\n",
            "Epoch:4, Batch:200, Loss:0.0402\n",
            "Epoch:4, Batch:300, Loss:0.0398\n",
            "Epoch:4, Batch:400, Loss:0.0521\n",
            "Epoch:4, Batch:500, Loss:0.0179\n",
            "Epoch:4, Batch:600, Loss:0.0321\n",
            "Epoch:5, Batch:100, Loss:0.0493\n",
            "Epoch:5, Batch:200, Loss:0.0176\n",
            "Epoch:5, Batch:300, Loss:0.0384\n",
            "Epoch:5, Batch:400, Loss:0.0250\n",
            "Epoch:5, Batch:500, Loss:0.0224\n",
            "Epoch:5, Batch:600, Loss:0.0361\n"
          ]
        }
      ]
    },
    {
      "cell_type": "code",
      "source": [
        "import torch"
      ],
      "metadata": {
        "id": "OH5K8J9e0ooq"
      },
      "execution_count": null,
      "outputs": []
    },
    {
      "cell_type": "code",
      "source": [
        "correct = 0\n",
        "total = 0\n",
        "for images, labels in test_loader:\n",
        "  images = Variable(images.view(-1,28*28))\n",
        "  output = model(images)\n",
        "  _, pred = torch.max(output.data, 1)\n",
        "  correct += (pred==labels).sum()\n",
        "  total += labels.size(0)\n",
        "print(100*float(correct)/float(total))"
      ],
      "metadata": {
        "colab": {
          "base_uri": "https://localhost:8080/"
        },
        "id": "VnuCGqs61L3V",
        "outputId": "3ead0cba-5246-4ea5-eee6-1b966fb20f2b"
      },
      "execution_count": null,
      "outputs": [
        {
          "output_type": "stream",
          "name": "stdout",
          "text": [
            "98.08\n"
          ]
        }
      ]
    },
    {
      "cell_type": "code",
      "source": [
        "for images, labels in test_loader:\n",
        "  print(images.shape)\n",
        "  break"
      ],
      "metadata": {
        "colab": {
          "base_uri": "https://localhost:8080/"
        },
        "id": "cK_lnoisUpTv",
        "outputId": "76e9ad1b-fba6-46b3-ba47-0aea250b5d67"
      },
      "execution_count": null,
      "outputs": [
        {
          "output_type": "stream",
          "name": "stdout",
          "text": [
            "torch.Size([100, 1, 28, 28])\n"
          ]
        }
      ]
    },
    {
      "cell_type": "code",
      "source": [
        "plt.imshow(images[2][0], cmap=\"gray\")\n",
        "plt.title(labels[2].data)\n",
        "plt.show()\n",
        "image_flat = Variable(images[2:3].view(-1, 28*28))\n",
        "outputs = model(image_flat)\n",
        "print(outputs)\n",
        "_, pred_y = torch.max(outputs.data, 1)\n",
        "print(pred_y)"
      ],
      "metadata": {
        "colab": {
          "base_uri": "https://localhost:8080/",
          "height": 525
        },
        "id": "pwJOINXQVp2X",
        "outputId": "23b1317a-99f6-4001-ad0b-84a13c505d4c"
      },
      "execution_count": null,
      "outputs": [
        {
          "output_type": "display_data",
          "data": {
            "text/plain": [
              "<Figure size 640x480 with 1 Axes>"
            ],
            "image/png": "[encoded data removed]"
          },
          "metadata": {}
        },
        {
          "output_type": "stream",
          "name": "stdout",
          "text": [
            "tensor([[-7.3805,  5.8102, -2.0074, -4.9802, -4.4630, -5.2542, -4.9358, -1.6358,\n",
            "         -2.7469, -7.3281]], grad_fn=<AddmmBackward0>)\n",
            "tensor([1])\n"
          ]
        }
      ]
    },
    {
      "cell_type": "code",
      "source": [
        "torch.save(model.state_dict(), \"model.pkl\")"
      ],
      "metadata": {
        "id": "7SrXw_rjYwhz"
      },
      "execution_count": null,
      "outputs": []
    },
    {
      "cell_type": "code",
      "source": [
        "model1 = Model(input_size, hidden_size, num_class)\n",
        "model1.load_state_dict(torch.load(\"model.pkl\"))"
      ],
      "metadata": {
        "colab": {
          "base_uri": "https://localhost:8080/"
        },
        "id": "sbYSFxdSZX-Q",
        "outputId": "effe872e-01a9-4844-fd40-b64f95f2ce54"
      },
      "execution_count": null,
      "outputs": [
        {
          "output_type": "execute_result",
          "data": {
            "text/plain": [
              "<All keys matched successfully>"
            ]
          },
          "metadata": {},
          "execution_count": 29
        }
      ]
    },
    {
      "cell_type": "code",
      "source": [
        "outputs = model1(image_flat)\n",
        "print(outputs)\n",
        "_, pred_y = torch.max(outputs.data, 1)\n",
        "print(pred_y)"
      ],
      "metadata": {
        "colab": {
          "base_uri": "https://localhost:8080/"
        },
        "id": "d9RaMDdzZto2",
        "outputId": "7de31ec6-b4a8-489c-88bd-d28daaeb9cc7"
      },
      "execution_count": null,
      "outputs": [
        {
          "output_type": "stream",
          "name": "stdout",
          "text": [
            "tensor([[-7.3805,  5.8102, -2.0074, -4.9802, -4.4630, -5.2542, -4.9358, -1.6358,\n",
            "         -2.7469, -7.3281]], grad_fn=<AddmmBackward0>)\n",
            "tensor([1])\n"
          ]
        }
      ]
    },
    {
      "cell_type": "code",
      "source": [
        "torch.save(model1, \"model1.pkl\")"
      ],
      "metadata": {
        "id": "Gnys2TKGbXAw"
      },
      "execution_count": null,
      "outputs": []
    },
    {
      "cell_type": "code",
      "source": [
        "model2 = torch.load(\"model1.pkl\", weights_only=False)"
      ],
      "metadata": {
        "id": "lh6XkcEobt--"
      },
      "execution_count": null,
      "outputs": []
    },
    {
      "cell_type": "code",
      "source": [
        "outputs = model2(image_flat)\n",
        "print(outputs)\n",
        "_, pred_y = torch.max(outputs.data, 1)\n",
        "print(pred_y)"
      ],
      "metadata": {
        "colab": {
          "base_uri": "https://localhost:8080/"
        },
        "id": "7gEpwqp_ee_L",
        "outputId": "4e18dbe3-d003-4e3b-c4b2-36ad8ba1319f"
      },
      "execution_count": null,
      "outputs": [
        {
          "output_type": "stream",
          "name": "stdout",
          "text": [
            "tensor([[-7.3805,  5.8102, -2.0074, -4.9802, -4.4630, -5.2542, -4.9358, -1.6358,\n",
            "         -2.7469, -7.3281]], grad_fn=<AddmmBackward0>)\n",
            "tensor([1])\n"
          ]
        }
      ]
    },
    {
      "cell_type": "code",
      "source": [
        "model3 = nn.Sequential(\n",
        "    nn.Linear(input_size, hidden_size),\n",
        "    nn.ReLU(),\n",
        "    nn.Linear(hidden_size, num_class)\n",
        ")\n",
        "print(model)\n",
        "print(\"________\")\n",
        "print(model3)"
      ],
      "metadata": {
        "colab": {
          "base_uri": "https://localhost:8080/"
        },
        "id": "ZnMdQALuekIi",
        "outputId": "364f96c6-3445-4351-a398-098041be0bb9"
      },
      "execution_count": null,
      "outputs": [
        {
          "output_type": "stream",
          "name": "stdout",
          "text": [
            "Model(\n",
            "  (fc1): Linear(in_features=784, out_features=500, bias=True)\n",
            "  (relu): ReLU()\n",
            "  (fc2): Linear(in_features=500, out_features=10, bias=True)\n",
            ")\n",
            "________\n",
            "Sequential(\n",
            "  (0): Linear(in_features=784, out_features=500, bias=True)\n",
            "  (1): ReLU()\n",
            "  (2): Linear(in_features=500, out_features=10, bias=True)\n",
            ")\n"
          ]
        }
      ]
    },
    {
      "cell_type": "code",
      "source": [
        "optimizer = opt.Adam(model3.parameters(), lr=learning_rate)"
      ],
      "metadata": {
        "id": "sqQrGO04gF_Q"
      },
      "execution_count": null,
      "outputs": []
    },
    {
      "cell_type": "code",
      "source": [
        "for epoch in range(num_epoch):\n",
        "  for i, (images, labels) in enumerate(train_loader):\n",
        "    images = Variable(images.view(-1,28*28))\n",
        "    labels = Variable(labels)\n",
        "    optimizer.zero_grad()\n",
        "    outputs = model3(images)\n",
        "    loss = loss_fn(outputs,labels)\n",
        "    loss.backward()\n",
        "    optimizer.step()\n",
        "    if (i+1)%100 == 0:\n",
        "      print(\"Epoch:{}, Batch:{}, Loss:{:.4f}\".format(epoch+1, i+1, loss.data))"
      ],
      "metadata": {
        "colab": {
          "base_uri": "https://localhost:8080/"
        },
        "id": "3_8_Ff01g_X0",
        "outputId": "c983aee3-fa3d-4ef2-c6b5-bf76a5fa934f"
      },
      "execution_count": null,
      "outputs": [
        {
          "output_type": "stream",
          "name": "stdout",
          "text": [
            "Epoch:1, Batch:100, Loss:0.3684\n",
            "Epoch:1, Batch:200, Loss:0.2310\n",
            "Epoch:1, Batch:300, Loss:0.2789\n",
            "Epoch:1, Batch:400, Loss:0.1137\n",
            "Epoch:1, Batch:500, Loss:0.1604\n",
            "Epoch:1, Batch:600, Loss:0.1513\n",
            "Epoch:2, Batch:100, Loss:0.1390\n",
            "Epoch:2, Batch:200, Loss:0.1396\n",
            "Epoch:2, Batch:300, Loss:0.0500\n",
            "Epoch:2, Batch:400, Loss:0.1654\n",
            "Epoch:2, Batch:500, Loss:0.0776\n",
            "Epoch:2, Batch:600, Loss:0.1169\n",
            "Epoch:3, Batch:100, Loss:0.0734\n",
            "Epoch:3, Batch:200, Loss:0.0889\n",
            "Epoch:3, Batch:300, Loss:0.0711\n",
            "Epoch:3, Batch:400, Loss:0.1429\n",
            "Epoch:3, Batch:500, Loss:0.0303\n",
            "Epoch:3, Batch:600, Loss:0.1474\n",
            "Epoch:4, Batch:100, Loss:0.0593\n",
            "Epoch:4, Batch:200, Loss:0.0956\n",
            "Epoch:4, Batch:300, Loss:0.0763\n",
            "Epoch:4, Batch:400, Loss:0.0662\n",
            "Epoch:4, Batch:500, Loss:0.0480\n",
            "Epoch:4, Batch:600, Loss:0.0595\n",
            "Epoch:5, Batch:100, Loss:0.0387\n",
            "Epoch:5, Batch:200, Loss:0.0209\n",
            "Epoch:5, Batch:300, Loss:0.0483\n",
            "Epoch:5, Batch:400, Loss:0.0463\n",
            "Epoch:5, Batch:500, Loss:0.0266\n",
            "Epoch:5, Batch:600, Loss:0.0281\n"
          ]
        }
      ]
    },
    {
      "cell_type": "code",
      "source": [
        "outputs = model3(image_flat)\n",
        "print(outputs)\n",
        "_, pred_y = torch.max(outputs.data, 1)\n",
        "print(pred_y)"
      ],
      "metadata": {
        "colab": {
          "base_uri": "https://localhost:8080/"
        },
        "id": "_W5ZH7KdiJKj",
        "outputId": "364df2e1-8f84-4618-d7c4-8c13f74610a8"
      },
      "execution_count": null,
      "outputs": [
        {
          "output_type": "stream",
          "name": "stdout",
          "text": [
            "tensor([[-6.2576,  5.7634, -2.4593, -6.5462, -2.5609, -5.5902, -3.5560, -2.5488,\n",
            "         -1.4963, -7.0475]], grad_fn=<AddmmBackward0>)\n",
            "tensor([1])\n"
          ]
        }
      ]
    }
  ]
}