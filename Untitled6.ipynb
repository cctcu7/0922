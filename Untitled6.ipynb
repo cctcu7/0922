{
  "nbformat": 4,
  "nbformat_minor": 0,
  "metadata": {
    "colab": {
      "provenance": [],
      "include_colab_link": true
    },
    "kernelspec": {
      "name": "python3",
      "display_name": "Python 3"
    },
    "language_info": {
      "name": "python"
    }
  },
  "cells": [
    {
      "cell_type": "markdown",
      "metadata": {
        "id": "view-in-github",
        "colab_type": "text"
      },
      "source": [
        "<a href=\"https://colab.research.google.com/github/cctcu7/0922/blob/master/Untitled6.ipynb\" target=\"_parent\"><img src=\"https://colab.research.google.com/assets/colab-badge.svg\" alt=\"Open In Colab\"/></a>"
      ]
    },
    {
      "cell_type": "code",
      "execution_count": null,
      "metadata": {
        "id": "NXQ2NWJQsJ0j"
      },
      "outputs": [],
      "source": [
        "in_features = 3\n",
        "out_feature = 1\n",
        "epoch_n = 100\n",
        "learning_rate = 0.001\n",
        "batch_n = 100"
      ]
    },
    {
      "cell_type": "code",
      "source": [
        "import torch"
      ],
      "metadata": {
        "id": "iiKU3cSKupph"
      },
      "execution_count": null,
      "outputs": []
    },
    {
      "cell_type": "code",
      "source": [
        "# y = 3x_1+5x_2+1x_3\n",
        "x = torch.rand(batch_n, in_features)\n",
        "c = torch.Tensor([[3.0],[5.0],[1.0]])\n",
        "y = torch.mm(x,c)\n",
        "y"
      ],
      "metadata": {
        "colab": {
          "base_uri": "https://localhost:8080/"
        },
        "id": "MzUIymmAu3ts",
        "outputId": "fd13eb73-2fe6-43f1-ecf4-c9a40d4e7c41"
      },
      "execution_count": null,
      "outputs": [
        {
          "output_type": "execute_result",
          "data": {
            "text/plain": [
              "tensor([[5.8449],\n",
              "        [2.6265],\n",
              "        [4.5305],\n",
              "        [5.5581],\n",
              "        [5.1747],\n",
              "        [4.7278],\n",
              "        [2.8938],\n",
              "        [4.3390],\n",
              "        [4.0542],\n",
              "        [2.4047],\n",
              "        [5.9860],\n",
              "        [2.3143],\n",
              "        [2.1093],\n",
              "        [3.4306],\n",
              "        [2.0040],\n",
              "        [4.9148],\n",
              "        [3.1718],\n",
              "        [3.7557],\n",
              "        [3.3950],\n",
              "        [5.6664],\n",
              "        [6.6215],\n",
              "        [5.0047],\n",
              "        [0.7898],\n",
              "        [4.6100],\n",
              "        [2.5558],\n",
              "        [5.9565],\n",
              "        [3.8163],\n",
              "        [5.3176],\n",
              "        [5.9521],\n",
              "        [3.9575],\n",
              "        [6.5592],\n",
              "        [6.1943],\n",
              "        [4.3043],\n",
              "        [1.7959],\n",
              "        [6.2298],\n",
              "        [4.2605],\n",
              "        [3.1945],\n",
              "        [3.1692],\n",
              "        [3.5563],\n",
              "        [7.4852],\n",
              "        [1.6867],\n",
              "        [2.8052],\n",
              "        [3.5161],\n",
              "        [2.0736],\n",
              "        [6.0934],\n",
              "        [5.7732],\n",
              "        [4.8532],\n",
              "        [4.2525],\n",
              "        [4.4602],\n",
              "        [5.8771],\n",
              "        [4.4162],\n",
              "        [7.1137],\n",
              "        [6.0653],\n",
              "        [5.3758],\n",
              "        [2.1728],\n",
              "        [4.8690],\n",
              "        [6.9034],\n",
              "        [4.0989],\n",
              "        [3.3989],\n",
              "        [4.3394],\n",
              "        [4.0450],\n",
              "        [6.8639],\n",
              "        [6.7780],\n",
              "        [6.2943],\n",
              "        [6.3438],\n",
              "        [3.4491],\n",
              "        [1.9029],\n",
              "        [4.1542],\n",
              "        [6.3437],\n",
              "        [2.6125],\n",
              "        [3.3083],\n",
              "        [5.4528],\n",
              "        [4.3892],\n",
              "        [5.1455],\n",
              "        [4.2495],\n",
              "        [4.5591],\n",
              "        [7.1962],\n",
              "        [5.2834],\n",
              "        [3.9575],\n",
              "        [1.3208],\n",
              "        [3.4997],\n",
              "        [2.8777],\n",
              "        [6.2844],\n",
              "        [4.0983],\n",
              "        [2.7886],\n",
              "        [3.7211],\n",
              "        [5.4044],\n",
              "        [2.6637],\n",
              "        [4.0331],\n",
              "        [4.9204],\n",
              "        [1.6186],\n",
              "        [3.7628],\n",
              "        [7.0389],\n",
              "        [4.5929],\n",
              "        [3.8810],\n",
              "        [5.3252],\n",
              "        [3.7572],\n",
              "        [2.7080],\n",
              "        [2.9161],\n",
              "        [3.3199]])"
            ]
          },
          "metadata": {},
          "execution_count": 3
        }
      ]
    },
    {
      "cell_type": "code",
      "source": [
        "y = y+torch.rand(batch_n, out_feature)\n",
        "y"
      ],
      "metadata": {
        "colab": {
          "base_uri": "https://localhost:8080/"
        },
        "id": "11XQiT9Dwgkr",
        "outputId": "f314e304-9506-4808-c3b4-ac741bffa3d3"
      },
      "execution_count": null,
      "outputs": [
        {
          "output_type": "execute_result",
          "data": {
            "text/plain": [
              "tensor([[6.5761],\n",
              "        [2.7613],\n",
              "        [4.9799],\n",
              "        [6.3026],\n",
              "        [5.8714],\n",
              "        [5.6711],\n",
              "        [3.8877],\n",
              "        [4.5979],\n",
              "        [4.5351],\n",
              "        [2.7376],\n",
              "        [6.3738],\n",
              "        [3.1595],\n",
              "        [2.8843],\n",
              "        [3.6790],\n",
              "        [2.4963],\n",
              "        [5.2852],\n",
              "        [3.7270],\n",
              "        [4.7465],\n",
              "        [4.1641],\n",
              "        [6.1714],\n",
              "        [7.1271],\n",
              "        [5.0099],\n",
              "        [1.5610],\n",
              "        [5.4823],\n",
              "        [2.6507],\n",
              "        [6.7441],\n",
              "        [4.0194],\n",
              "        [6.2226],\n",
              "        [6.7527],\n",
              "        [4.1677],\n",
              "        [6.9304],\n",
              "        [6.9707],\n",
              "        [4.3470],\n",
              "        [2.0379],\n",
              "        [6.5129],\n",
              "        [4.8419],\n",
              "        [3.2168],\n",
              "        [3.8217],\n",
              "        [3.6718],\n",
              "        [7.8396],\n",
              "        [2.3399],\n",
              "        [3.7176],\n",
              "        [3.5769],\n",
              "        [2.4302],\n",
              "        [6.2173],\n",
              "        [5.8656],\n",
              "        [5.7721],\n",
              "        [4.6014],\n",
              "        [4.6238],\n",
              "        [6.2108],\n",
              "        [5.1572],\n",
              "        [7.2140],\n",
              "        [6.8823],\n",
              "        [6.2362],\n",
              "        [2.7105],\n",
              "        [5.1817],\n",
              "        [7.7649],\n",
              "        [4.8466],\n",
              "        [3.7731],\n",
              "        [4.6918],\n",
              "        [4.5583],\n",
              "        [7.5139],\n",
              "        [7.6352],\n",
              "        [6.6022],\n",
              "        [7.3335],\n",
              "        [4.2355],\n",
              "        [1.9849],\n",
              "        [4.3085],\n",
              "        [6.9064],\n",
              "        [3.2291],\n",
              "        [4.2950],\n",
              "        [5.5551],\n",
              "        [4.5040],\n",
              "        [6.1099],\n",
              "        [4.5182],\n",
              "        [5.1546],\n",
              "        [7.5196],\n",
              "        [6.1913],\n",
              "        [4.8677],\n",
              "        [1.8932],\n",
              "        [4.0511],\n",
              "        [3.7052],\n",
              "        [6.5322],\n",
              "        [4.1356],\n",
              "        [3.0080],\n",
              "        [4.0476],\n",
              "        [5.8817],\n",
              "        [3.6481],\n",
              "        [4.8170],\n",
              "        [5.0236],\n",
              "        [2.4330],\n",
              "        [4.1530],\n",
              "        [7.6983],\n",
              "        [5.3375],\n",
              "        [4.8520],\n",
              "        [6.0952],\n",
              "        [3.9034],\n",
              "        [3.3763],\n",
              "        [2.9723],\n",
              "        [3.5160]])"
            ]
          },
          "metadata": {},
          "execution_count": 4
        }
      ]
    },
    {
      "cell_type": "code",
      "source": [
        "import matplotlib.pyplot as plt"
      ],
      "metadata": {
        "id": "32etXOMRw_jc"
      },
      "execution_count": null,
      "outputs": []
    },
    {
      "cell_type": "code",
      "source": [
        "plt.figure()\n",
        "plt.scatter(x[:,2],y)\n",
        "plt.xlabel(\"x\")\n",
        "plt.ylabel(\"y\")\n",
        "plt.show()"
      ],
      "metadata": {
        "colab": {
          "base_uri": "https://localhost:8080/",
          "height": 449
        },
        "id": "O-N8VpKBxZH1",
        "outputId": "b5dc003d-e740-49bf-c541-47c5daf99473"
      },
      "execution_count": null,
      "outputs": [
        {
          "output_type": "display_data",
          "data": {
            "text/plain": [
              "<Figure size 640x480 with 1 Axes>"
            ],
            "image/png": "[encoded data removed]"
          },
          "metadata": {}
        }
      ]
    },
    {
      "cell_type": "code",
      "source": [
        "w = torch.rand(in_features, out_feature)\n",
        "w"
      ],
      "metadata": {
        "colab": {
          "base_uri": "https://localhost:8080/"
        },
        "id": "8Lqp9SPTycLq",
        "outputId": "d2fce33c-63d1-4436-9d88-cc98ea1a1ea1"
      },
      "execution_count": null,
      "outputs": [
        {
          "output_type": "execute_result",
          "data": {
            "text/plain": [
              "tensor([[0.5129],\n",
              "        [0.2078],\n",
              "        [0.9302]])"
            ]
          },
          "metadata": {},
          "execution_count": 7
        }
      ]
    },
    {
      "cell_type": "code",
      "source": [
        "from torch.autograd import Variable"
      ],
      "metadata": {
        "id": "SLi26NJQzTDd"
      },
      "execution_count": null,
      "outputs": []
    },
    {
      "cell_type": "code",
      "source": [
        "Vx = Variable(x, requires_grad=False)\n",
        "Vy = Variable(y, requires_grad=False)\n",
        "Vw = Variable(w, requires_grad=True)"
      ],
      "metadata": {
        "id": "7tiMa7uF0MGN"
      },
      "execution_count": null,
      "outputs": []
    },
    {
      "cell_type": "code",
      "source": [
        "for epoch in range(epoch_n):\n",
        "  y_pred = Vx.mm(Vw)\n",
        "  loss = (y_pred-Vy).pow(2).sum()\n",
        "  print(\"Epoch:{}, Loss:{:.4f}\".format(epoch, loss))\n",
        "  loss.backward()\n",
        "  Vw.data -= learning_rate*Vw.grad.data\n",
        "  Vw.data.zero_()"
      ],
      "metadata": {
        "colab": {
          "base_uri": "https://localhost:8080/"
        },
        "id": "SY-TXsSv04vo",
        "outputId": "5a2a1100-0023-479b-e108-993b07023b54"
      },
      "execution_count": null,
      "outputs": [
        {
          "output_type": "stream",
          "name": "stdout",
          "text": [
            "Epoch:0, Loss:1867.6707\n",
            "Epoch:1, Loss:2592.2690\n",
            "Epoch:2, Loss:2592.2690\n",
            "Epoch:3, Loss:2592.2690\n",
            "Epoch:4, Loss:2592.2690\n",
            "Epoch:5, Loss:2592.2690\n",
            "Epoch:6, Loss:2592.2690\n",
            "Epoch:7, Loss:2592.2690\n",
            "Epoch:8, Loss:2592.2690\n",
            "Epoch:9, Loss:2592.2690\n",
            "Epoch:10, Loss:2592.2690\n",
            "Epoch:11, Loss:2592.2690\n",
            "Epoch:12, Loss:2592.2690\n",
            "Epoch:13, Loss:2592.2690\n",
            "Epoch:14, Loss:2592.2690\n",
            "Epoch:15, Loss:2592.2690\n",
            "Epoch:16, Loss:2592.2690\n",
            "Epoch:17, Loss:2592.2690\n",
            "Epoch:18, Loss:2592.2690\n",
            "Epoch:19, Loss:2592.2690\n",
            "Epoch:20, Loss:2592.2690\n",
            "Epoch:21, Loss:2592.2690\n",
            "Epoch:22, Loss:2592.2690\n",
            "Epoch:23, Loss:2592.2690\n",
            "Epoch:24, Loss:2592.2690\n",
            "Epoch:25, Loss:2592.2690\n",
            "Epoch:26, Loss:2592.2690\n",
            "Epoch:27, Loss:2592.2690\n",
            "Epoch:28, Loss:2592.2690\n",
            "Epoch:29, Loss:2592.2690\n",
            "Epoch:30, Loss:2592.2690\n",
            "Epoch:31, Loss:2592.2690\n",
            "Epoch:32, Loss:2592.2690\n",
            "Epoch:33, Loss:2592.2690\n",
            "Epoch:34, Loss:2592.2690\n",
            "Epoch:35, Loss:2592.2690\n",
            "Epoch:36, Loss:2592.2690\n",
            "Epoch:37, Loss:2592.2690\n",
            "Epoch:38, Loss:2592.2690\n",
            "Epoch:39, Loss:2592.2690\n",
            "Epoch:40, Loss:2592.2690\n",
            "Epoch:41, Loss:2592.2690\n",
            "Epoch:42, Loss:2592.2690\n",
            "Epoch:43, Loss:2592.2690\n",
            "Epoch:44, Loss:2592.2690\n",
            "Epoch:45, Loss:2592.2690\n",
            "Epoch:46, Loss:2592.2690\n",
            "Epoch:47, Loss:2592.2690\n",
            "Epoch:48, Loss:2592.2690\n",
            "Epoch:49, Loss:2592.2690\n",
            "Epoch:50, Loss:2592.2690\n",
            "Epoch:51, Loss:2592.2690\n",
            "Epoch:52, Loss:2592.2690\n",
            "Epoch:53, Loss:2592.2690\n",
            "Epoch:54, Loss:2592.2690\n",
            "Epoch:55, Loss:2592.2690\n",
            "Epoch:56, Loss:2592.2690\n",
            "Epoch:57, Loss:2592.2690\n",
            "Epoch:58, Loss:2592.2690\n",
            "Epoch:59, Loss:2592.2690\n",
            "Epoch:60, Loss:2592.2690\n",
            "Epoch:61, Loss:2592.2690\n",
            "Epoch:62, Loss:2592.2690\n",
            "Epoch:63, Loss:2592.2690\n",
            "Epoch:64, Loss:2592.2690\n",
            "Epoch:65, Loss:2592.2690\n",
            "Epoch:66, Loss:2592.2690\n",
            "Epoch:67, Loss:2592.2690\n",
            "Epoch:68, Loss:2592.2690\n",
            "Epoch:69, Loss:2592.2690\n",
            "Epoch:70, Loss:2592.2690\n",
            "Epoch:71, Loss:2592.2690\n",
            "Epoch:72, Loss:2592.2690\n",
            "Epoch:73, Loss:2592.2690\n",
            "Epoch:74, Loss:2592.2690\n",
            "Epoch:75, Loss:2592.2690\n",
            "Epoch:76, Loss:2592.2690\n",
            "Epoch:77, Loss:2592.2690\n",
            "Epoch:78, Loss:2592.2690\n",
            "Epoch:79, Loss:2592.2690\n",
            "Epoch:80, Loss:2592.2690\n",
            "Epoch:81, Loss:2592.2690\n",
            "Epoch:82, Loss:2592.2690\n",
            "Epoch:83, Loss:2592.2690\n",
            "Epoch:84, Loss:2592.2690\n",
            "Epoch:85, Loss:2592.2690\n",
            "Epoch:86, Loss:2592.2690\n",
            "Epoch:87, Loss:2592.2690\n",
            "Epoch:88, Loss:2592.2690\n",
            "Epoch:89, Loss:2592.2690\n",
            "Epoch:90, Loss:2592.2690\n",
            "Epoch:91, Loss:2592.2690\n",
            "Epoch:92, Loss:2592.2690\n",
            "Epoch:93, Loss:2592.2690\n",
            "Epoch:94, Loss:2592.2690\n",
            "Epoch:95, Loss:2592.2690\n",
            "Epoch:96, Loss:2592.2690\n",
            "Epoch:97, Loss:2592.2690\n",
            "Epoch:98, Loss:2592.2690\n",
            "Epoch:99, Loss:2592.2690\n"
          ]
        }
      ]
    }
  ]
}